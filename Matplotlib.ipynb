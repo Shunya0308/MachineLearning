{
 "cells": [
  {
   "source": [
    "import matplotlib.pyplot as plt\n",
    "import numpy as np\n",
    "\n",
    "%matplotlib inline"
   ],
   "cell_type": "code",
   "metadata": {},
   "execution_count": null,
   "outputs": []
  },
  {
   "source": [
    "mu1, sigma1 = 100, 15\n",
    "mu2, sigma2 = 90, 20\n",
    "mu3, sigma3 = 110, 10\n",
    "x1 = mu1 + sigma1 * np.random.randn(10000)\n",
    "x2 = mu2 + sigma2 * np.random.randn(10000)\n",
    "x3 = mu3 + sigma3 * np.random.randn(10000)\n",
    "\n",
    "plt.hist([x1, x2, x3], bins=10, density=True, color=['yellow', 'skyblue', 'blue'], label=['x1', 'x2', 'x3'], stacked=True)\n",
    "plt.title('histogram')\n",
    "plt.xlabel('x')\n",
    "plt.ylabel('densiny')\n",
    "plt.xlim(0, 180)\n",
    "plt.grid(True)\n",
    "plt.legend(loc='upper left')\n",
    "plt.show()"
   ],
   "cell_type": "code",
   "metadata": {},
   "execution_count": null,
   "outputs": []
  },
  {
   "source": [
    "labels = 'Chips', 'Hotdogs', 'Cookies', 'Chocolates'\n",
    "sizes = [15, 30, 45, 10]\n",
    "explode = (0, 0.1, 0, 0)\n",
    "\n",
    "plt.pie(sizes, explode=explode, labels=labels, autopct='%1.1f%%', shadow=True, startangle=90)\n",
    "plt.axis('equal')\n",
    "plt.show()"
   ],
   "cell_type": "code",
   "metadata": {},
   "execution_count": null,
   "outputs": []
  },
  {
   "source": [
    "plt.figure(figsize=(4, 2))\n",
    "\n",
    "x1 = np.arange(10)\n",
    "y1 = np.random.randint(-10, 10, 10)\n",
    "\n",
    "ax1 = fig.add_subplot(211)\n",
    "ax1.set_title('Result')\n",
    "ax1.set_xlabel('x axis')\n",
    "ax1.set_ylabel('y axis')\n",
    "\n",
    "ax1.plot(x1, y1)\n",
    "\n",
    "x2 = ['sam', 'John', 'Kevin', 'Adam']\n",
    "y2 = np.random.randint(0, 200, 4)\n",
    "\n",
    "ax2 = fig.add_subplot(212)\n",
    "ax2.bar(x2, y2)\n",
    "\n",
    "plt.show()\n"
   ],
   "cell_type": "code",
   "metadata": {},
   "execution_count": null,
   "outputs": []
  },
  {
   "source": [
    "import matplotlib.pyplot as plt\n",
    "import numpy as np\n",
    "\n",
    "from matplotlib.widgets import Cursor\n",
    "\n",
    "fig = plt.figure(figsize=(8, 6))\n",
    "ax = fig.add_subplot(111, facecolor='#FFFFCC')\n",
    "\n",
    "x, y = 4*(np.random.rand(2, 100) - .5)\n",
    "ax.plot(x, y, 'o')\n",
    "ax.set_xlim(-2, 2)\n",
    "ax.set_ylim(-2, 2)\n",
    "\n",
    "cursor = Cursor(ax, useblit=True, color='red', linewidth=2)\n",
    "\n",
    "plt.show()"
   ],
   "cell_type": "code",
   "metadata": {},
   "execution_count": null,
   "outputs": []
  },
  {
   "source": [
    "x = np.array([100, 20, 300, 400, 500])\n",
    "labels = [\"Apple\", \"Banana\", \"Orange\", \"Grape\", \"Strawberry\"]\n",
    "colors = [\"red\", \"yellow\", \"orange\", \"purple\", \"pink\"]\n",
    "\n",
    "plt.pie(x, labels=labels, colors=colors, counterclock=False, startangle=90)\n",
    "plt.show()"
   ],
   "cell_type": "code",
   "metadata": {},
   "execution_count": null,
   "outputs": []
  },
  {
   "source": [
    "from mpl_toolkits.mplot3d import Axes3D\n",
    "\n",
    "theta = np.linspace(-4 * np.pi, 4 * np.pi, 100)\n",
    "z = np.linspace(-2, 2, 100)\n",
    "r = z**2 + 1\n",
    "x = r * np.sin(theta)\n",
    "y = r * np.cos(theta)\n",
    "\n",
    "fig = plt.figure()\n",
    "ax = fig.gca(projection='3d')\n",
    "\n",
    "ax.plot(x, y, z, label='3D Curve')\n",
    "ax.legend()\n",
    "\n",
    "plt.show()\n",
    "\n",
    "plt.plot(x, y)"
   ],
   "cell_type": "code",
   "metadata": {},
   "execution_count": null,
   "outputs": []
  },
  {
   "source": [
    "data = np.random.rand(10, 10)\n",
    "data.shape\n",
    "plt.imshow(data,  vmin=0, vmax=1, cmap='Blues')\n",
    "plt.colorbar()"
   ],
   "cell_type": "code",
   "metadata": {},
   "execution_count": null,
   "outputs": []
  },
  {
   "source": [
    "names = ['sam', 'John', 'Kevin', 'Adam']\n",
    "values = [60, 170, 10, 120]\n",
    "\n",
    "plt.figure(figsize=(9, 3))\n",
    "\n",
    "plt.subplot(131)\n",
    "plt.bar(names, values)\n",
    "plt.subplot(132)\n",
    "plt.scatter(names, values)\n",
    "plt.subplot(133)\n",
    "plt.plot(names, values)"
   ],
   "cell_type": "code",
   "metadata": {},
   "execution_count": null,
   "outputs": []
  },
  {
   "source": [
    "data = [5, 3, 4, 2, 0, 3, 2, 1, 4, 6, 8, 5]\n",
    "\n",
    "plt.plot(data)\n",
    "plt.grid(True)"
   ],
   "cell_type": "code",
   "metadata": {},
   "execution_count": null,
   "outputs": []
  },
  {
   "source": [
    "data = [5, 3, 4, 2, 0, 3, 2, 1, 4, 6, 8, 5]\n",
    "\n",
    "plt.plot(data)\n",
    "plt.xticks(np.arange(12))\n",
    "plt.yticks(np.arange(0, 10, 2))\n",
    "plt.annotate('min value', xy=(4.2, 0), xytext=(9,1), arrowprops=dict(facecolor='black', shrink=0.05))"
   ],
   "cell_type": "code",
   "metadata": {},
   "execution_count": null,
   "outputs": []
  },
  {
   "source": [
    "data = [5, 3, 4, 2, 0, 3, 2, 1, 4, 6, 8, 5]\n",
    "\n",
    "plt.plot(data)\n",
    "plt.annotate('min value', xy=(4.2, 0), xytext=(9,1), arrowprops=dict(facecolor='black', shrink=0.05))"
   ],
   "cell_type": "code",
   "metadata": {},
   "execution_count": null,
   "outputs": []
  },
  {
   "source": [
    "x1 = np.random.randint(10, 35, 20)\n",
    "x2 = np.random.randint(5, 45, 20)\n",
    "x3 = np.random.randint(0, 40, 20)\n",
    "y1 = np.random.randint(50, 100, 20)\n",
    "y2 = np.random.randint(0, 40, 20)\n",
    "y3 = np.random.randint(20, 80, 20)\n",
    "\n",
    "plt.scatter(x1, y1, marker='*', s=80)\n",
    "plt.scatter(x2, y2, marker='^', s=60)\n",
    "plt.scatter(x3, y3, marker='x', s=30)"
   ],
   "cell_type": "code",
   "metadata": {},
   "execution_count": null,
   "outputs": []
  },
  {
   "source": [
    "x = np.linspace(0, 2*np.pi, 500)\n",
    "y1 = np.sin(x)\n",
    "y2 = np.cos(x)\n",
    "\n",
    "plt.plot(x, y1, label='sin')\n",
    "plt.plot(x, y2, label='cos')\n",
    "\n",
    "plt.ylim(-2, 2)\n",
    "plt.legend(loc=1)"
   ],
   "cell_type": "code",
   "metadata": {},
   "execution_count": null,
   "outputs": []
  },
  {
   "source": [
    "x = np.linspace(0, 10, 500)\n",
    "y = np.exp(x)\n",
    "\n",
    "plt.yscale('log')\n",
    "plt.plot(x, y)"
   ],
   "cell_type": "code",
   "metadata": {},
   "execution_count": null,
   "outputs": []
  },
  {
   "source": [
    "x = np.arange(10)\n",
    "y = np.random.randint(-10, 10, 10)\n",
    "plt.plot(x, y)\n",
    "plt.title('Result')\n",
    "plt.xlabel('x axis')\n",
    "plt.ylabel('y axis')"
   ],
   "cell_type": "code",
   "metadata": {},
   "execution_count": null,
   "outputs": []
  },
  {
   "source": [
    "x = ['sam', 'John', 'Kevin', 'Adam']\n",
    "y = np.random.randint(0, 200, 4)\n",
    "plt.bar(x, y)"
   ],
   "cell_type": "code",
   "metadata": {},
   "execution_count": null,
   "outputs": []
  },
  {
   "source": [
    "plt.bar(x, y)"
   ],
   "cell_type": "code",
   "metadata": {},
   "execution_count": null,
   "outputs": []
  },
  {
   "source": [
    "data = np.random.randint(0, 10, 10)"
   ],
   "cell_type": "code",
   "metadata": {},
   "execution_count": null,
   "outputs": []
  },
  {
   "source": [
    "plt.hist(data, bins=15)"
   ],
   "cell_type": "code",
   "metadata": {},
   "execution_count": null,
   "outputs": []
  },
  {
   "source": [
    "plt.hist(data)"
   ],
   "cell_type": "code",
   "metadata": {},
   "execution_count": null,
   "outputs": []
  },
  {
   "source": [
    "x1  = np.random.randint(10, 20, 20)\n",
    "x2  = np.random.randint(20, 30, 20)\n",
    "y1  = np.random.randint(50, 100, 20)\n",
    "y2  = np.random.randint(0, 40, 20)"
   ],
   "cell_type": "code",
   "metadata": {},
   "execution_count": null,
   "outputs": []
  },
  {
   "source": [
    "plt.scatter(x1, y1)\n",
    "plt.scatter(x2, y2)\n",
    "plt.xlim(0, 40)\n",
    "plt.ylim(0, 120)"
   ],
   "cell_type": "code",
   "metadata": {},
   "execution_count": null,
   "outputs": []
  }
 ],
 "nbformat": 4,
 "nbformat_minor": 2,
 "metadata": {
  "language_info": {
   "codemirror_mode": {
    "name": "ipython",
    "version": 3
   },
   "file_extension": ".py",
   "mimetype": "text/x-python",
   "name": "python",
   "nbconvert_exporter": "python",
   "pygments_lexer": "ipython3",
   "version": "3.6.6"
  },
  "orig_nbformat": 2,
  "kernelspec": {
   "name": "python366jvsc74a57bd09652a0b38134aea3007ce6aa9098bf500cde108c1f85b26fee68e8b415f9d067",
   "display_name": "Python 3.6.6 64-bit ('3.6.6': pyenv)"
  },
  "metadata": {
   "interpreter": {
    "hash": "9652a0b38134aea3007ce6aa9098bf500cde108c1f85b26fee68e8b415f9d067"
   }
  }
 }
}